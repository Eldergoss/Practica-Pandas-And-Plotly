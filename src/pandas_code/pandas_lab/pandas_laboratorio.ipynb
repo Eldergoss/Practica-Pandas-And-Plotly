{
 "cells": [
  {
   "cell_type": "code",
   "execution_count": 3,
   "metadata": {},
   "outputs": [
    {
     "name": "stdout",
     "output_type": "stream",
     "text": [
      "Requirement already satisfied: pandas in /home/david/python_project/entorno_practica/lib/python3.12/site-packages (2.2.2)\n",
      "Requirement already satisfied: numpy>=1.26.0 in /home/david/python_project/entorno_practica/lib/python3.12/site-packages (from pandas) (2.0.1)\n",
      "Requirement already satisfied: python-dateutil>=2.8.2 in /home/david/python_project/entorno_practica/lib/python3.12/site-packages (from pandas) (2.9.0.post0)\n",
      "Requirement already satisfied: pytz>=2020.1 in /home/david/python_project/entorno_practica/lib/python3.12/site-packages (from pandas) (2024.1)\n",
      "Requirement already satisfied: tzdata>=2022.7 in /home/david/python_project/entorno_practica/lib/python3.12/site-packages (from pandas) (2024.1)\n",
      "Requirement already satisfied: six>=1.5 in /home/david/python_project/entorno_practica/lib/python3.12/site-packages (from python-dateutil>=2.8.2->pandas) (1.16.0)\n",
      "Note: you may need to restart the kernel to use updated packages.\n",
      "Requirement already satisfied: tabulate in /home/david/python_project/entorno_practica/lib/python3.12/site-packages (0.9.0)\n",
      "Note: you may need to restart the kernel to use updated packages.\n"
     ]
    }
   ],
   "source": [
    "%pip install pandas\n",
    "%pip install tabulate\n"
   ]
  },
  {
   "cell_type": "code",
   "execution_count": 4,
   "metadata": {},
   "outputs": [
    {
     "name": "stdout",
     "output_type": "stream",
     "text": [
      "+----+----------------+-------+---------+----------+---------+\n",
      "|    | País           |   Oro |   Plata |   Bronce |   Total |\n",
      "+====+================+=======+=========+==========+=========+\n",
      "|  0 | Estados Unidos |    46 |      37 |       38 |     121 |\n",
      "+----+----------------+-------+---------+----------+---------+\n",
      "|  1 | Reino Unido    |    27 |      23 |       17 |      67 |\n",
      "+----+----------------+-------+---------+----------+---------+\n",
      "|  2 | China          |    26 |      18 |       26 |      70 |\n",
      "+----+----------------+-------+---------+----------+---------+\n",
      "|  3 | Rusia          |    19 |      17 |       20 |      56 |\n",
      "+----+----------------+-------+---------+----------+---------+\n",
      "|  4 | Alemania       |    17 |      10 |       15 |      42 |\n",
      "+----+----------------+-------+---------+----------+---------+\n",
      "|  5 | Japón          |    12 |       8 |       21 |      41 |\n",
      "+----+----------------+-------+---------+----------+---------+\n",
      "|  6 | Francia        |    10 |      18 |       14 |      42 |\n",
      "+----+----------------+-------+---------+----------+---------+\n",
      "|  7 | Corea del Sur  |     9 |       3 |        9 |      21 |\n",
      "+----+----------------+-------+---------+----------+---------+\n",
      "|  8 | Italia         |     8 |      12 |        8 |      28 |\n",
      "+----+----------------+-------+---------+----------+---------+\n",
      "|  9 | Australia      |     8 |      11 |       10 |      29 |\n",
      "+----+----------------+-------+---------+----------+---------+\n"
     ]
    }
   ],
   "source": [
    "import pandas as pd\n",
    "from tabulate import tabulate\n",
    "\n",
    "# Datos del medallero de los Juegos Olímpicos de Río de Janeiro 2016\n",
    "data = {\n",
    "    'País': ['Estados Unidos', 'Reino Unido', 'China', 'Rusia', 'Alemania', 'Japón', 'Francia', 'Corea del Sur', 'Italia', 'Australia'],\n",
    "    'Oro': [46, 27, 26, 19, 17, 12, 10, 9, 8, 8],\n",
    "    'Plata': [37, 23, 18, 17, 10, 8, 18, 3, 12, 11],\n",
    "    'Bronce': [38, 17, 26, 20, 15, 21, 14, 9, 8, 10],\n",
    "    'Total': [121, 67, 70, 56, 42, 41, 42, 21, 28, 29]\n",
    "}\n",
    "\n",
    "# Crear el DataFrame\n",
    "medallero_df = pd.DataFrame(data)\n",
    "\n",
    "# Mostrar el DataFrame usando tabulate\n",
    "print(tabulate(medallero_df, headers='keys', tablefmt='grid'))"
   ]
  },
  {
   "cell_type": "code",
   "execution_count": 6,
   "metadata": {},
   "outputs": [
    {
     "name": "stdout",
     "output_type": "stream",
     "text": [
      "             País  Oro  Plata  Bronce  Total\n",
      "0  Estados Unidos   46     37      38    121\n",
      "1     Reino Unido   27     23      17     67\n",
      "2           China   26     18      26     70\n",
      "3           Rusia   19     17      20     56\n",
      "4        Alemania   17     10      15     42\n",
      "5           Japón   12      8      21     41\n",
      "6         Francia   10     18      14     42\n",
      "7   Corea del Sur    9      3       9     21\n",
      "8          Italia    8     12       8     28\n",
      "9       Australia    8     11      10     29\n"
     ]
    }
   ],
   "source": [
    "#Dataframe\n",
    "print(medallero_df)\n",
    "\n",
    "#metodo loc\n",
    "\n"
   ]
  }
 ],
 "metadata": {
  "kernelspec": {
   "display_name": "entorno_practica",
   "language": "python",
   "name": "python3"
  },
  "language_info": {
   "codemirror_mode": {
    "name": "ipython",
    "version": 3
   },
   "file_extension": ".py",
   "mimetype": "text/x-python",
   "name": "python",
   "nbconvert_exporter": "python",
   "pygments_lexer": "ipython3",
   "version": "3.12.3"
  }
 },
 "nbformat": 4,
 "nbformat_minor": 2
}
